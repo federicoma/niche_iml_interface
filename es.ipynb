{
 "cells": [
  {
   "cell_type": "code",
   "execution_count": 101,
   "id": "2dd96c5a-3fdb-4974-b177-3cc6a5394acd",
   "metadata": {},
   "outputs": [
    {
     "name": "stdout",
     "output_type": "stream",
     "text": [
      "The autoreload extension is already loaded. To reload it, use:\n",
      "  %reload_ext autoreload\n"
     ]
    },
    {
     "data": {
      "application/vnd.jupyter.widget-view+json": {
       "model_id": "80e83546a647492db179afdc77b63e51",
       "version_major": 2,
       "version_minor": 0
      },
      "text/plain": [
       "App(children=[AppBar(children=[Btn(children=[Icon(children=['mdi-dots-vertical'])], icon=True), ToolbarTitle(c…"
      ]
     },
     "metadata": {},
     "output_type": "display_data"
    }
   ],
   "source": [
    "%load_ext autoreload\n",
    "%autoreload 2\n",
    "\n",
    "import time\n",
    "\n",
    "import ipyvuetify as v\n",
    "import xlwings as xw\n",
    "import ipywidgets as w\n",
    "import pandas as pd\n",
    "\n",
    "from interface import interface\n",
    "\n",
    "#open excel\n",
    "wb=xw.Book(\"IMS.xlsm\")\n",
    "sheet = wb.sheets['Sheet1']\n",
    "\n",
    "#Instruments\n",
    "type_of_instruments = ['Equity', 'Bond', 'Fund']\n",
    "buy_sell = [\"Buy\",\"Sell\"]\n",
    "\n",
    "\n",
    "instruments = v.Select(v_model='Equity',id=\"instrument_select\",\n",
    "    label='Instrument',\n",
    "    items=type_of_instruments)\n",
    "\n",
    "def select_change(widget, event, data):\n",
    "    content_list = [v.TabItem(children=[forms[(instruments.v_model,'Buy')]]),v.TabItem(children=[forms[(instruments.v_model,'Sell')]])]\n",
    "    tabs = v.Tabs(\n",
    "    v_model=1, \n",
    "    children=tab_list + content_list, color =\"blue-grey darken-1\")\n",
    "    content.children = [instruments,tabs]\n",
    "    #compile_excel(wb.sheets[\"Pre-Check BUY\"],cells[(instruments.v_model, 'Buy')])\n",
    "    \n",
    "\n",
    "instruments.on_event('change',select_change)\n",
    "\n",
    "widgets = {}\n",
    "cells = {}\n",
    "from copy import deepcopy\n",
    "for item in interface:\n",
    "    item = deepcopy(item)\n",
    "    instrument, type_, obj = item.pop('INSTRUMENT'), item.pop('TYPE'), item.pop('OBJECT')\n",
    "    widgets.setdefault((instrument, type_), [])\n",
    "    cells.setdefault((instrument, type_), [])\n",
    "    label = item['label'].replace(' ','_')\n",
    "    widget = getattr(v, obj)(**item)\n",
    "    widget.id = f\"{instrument}_{type_}_{label}\"\n",
    "    widgets[instrument, type_].append(widget)\n",
    "    cells[instrument, type_].append((label,item['cell']))\n",
    "\n",
    "\n",
    "#forms    \n",
    "forms = {}\n",
    "for k, children in widgets.items():\n",
    "        forms[k] = v.Form(children=children)\n",
    "\n",
    "class AllForms:\n",
    "    def __init__(self):\n",
    "        for k, form in forms.items():\n",
    "            for widget in form.children:\n",
    "                setattr(self, widget.id, widget)\n",
    "\n",
    "af = AllForms()\n",
    "\n",
    "#Buttons Form\n",
    "Proceed = v.Btn(\n",
    "                  icon = False,\n",
    "                  children=[\n",
    "                      v.Icon(children=['mdi-application-export'],  class_ = \"mr-2\"),\n",
    "                      'Proceed',\n",
    "                      ])\n",
    "\n",
    "def compile_excel(sheet_sell,cells):\n",
    "    for f in cells:\n",
    "        obj = getattr(af,f\"{instruments.v_model}_Buy_{f[0]}\")\n",
    "        obj.v_model = sheet_sell.range(f[1])\n",
    "        print(obj)\n",
    "        \n",
    "        \n",
    "#functions to be called\n",
    "def Test(sheet_sell):\n",
    "    sheet_sell.range(\"C19\").value= ticker.v_model  \n",
    "    if sheet_sell.range(\"C27\").value == \"#N/A Requesting Data...\" or sheet_sell.range(\"C30\").value == \"#N/A Requesting Data...\":\n",
    "        time.sleep(0.1)\n",
    "        Test(sheet_sell)\n",
    "    else:\n",
    "        #print(sheet_sell.range(\"C27\").value)\n",
    "        Px_Last.v_model = sheet_sell.range(\"C27\").value\n",
    "        ISIN.v_model = sheet_sell.range(\"B20\").value\n",
    "        Name.v_model = sheet_sell.range(\"C20\").value\n",
    "        Crncy.v_model = sheet_sell.range(\"C28\").value\n",
    "        Cross.v_model = sheet_sell.range(\"C29\").value\n",
    "        App_Cross.v_model = sheet_sell.range(\"C30\").value\n",
    "        Price_Euro.v_model = sheet_sell.range(\"C31\").value\n",
    "        #print(st.range(\"A5\").value)\n",
    "\n",
    "    #ticker.v_model = sheet_sell.range(\"C25\").value\n",
    "\n",
    "    \n",
    "def verify(widget, event, data):\n",
    "    Proceed.disabled = False\n",
    "\n",
    "Proceed.on_event('click',Test)\n",
    "\n",
    "   \n",
    "#form= v.Form(children=[ticker,widgets.HBox([ISIN, Name],style_='width: 100%; opacity: 0.7'),\n",
    "#                       Px_Last,Crncy,Cross,App_Cross,Price_Euro,Quantity,Verify, Proceed])\n",
    "\n",
    "\n",
    "#tabs\n",
    "content_list = [v.TabItem(children=[forms[('Equity','Buy')]]),v.TabItem(children=[forms[('Equity','Sell')]])]\n",
    "tab_list = [v.Tab(children=[\"Pre-Trade Buy\"]), v.Tab(children=[\"Pre-Check Sell\"])]\n",
    "\n",
    "tabs = v.Tabs(\n",
    "    v_model=1, \n",
    "    children=tab_list + content_list, color =\"blue-grey darken-1\")\n",
    "\n",
    "###############\n",
    "#APP\n",
    "###############\n",
    "\n",
    "#navigation bar\n",
    "navDrawer = v.NavigationDrawer(v_model=True, children=[\n",
    "     v.Select(label='select1', items=[1,2,], prepend_icon = 'fa-truck'), \n",
    "    v.TextField(label='text', prepend_icon = 'mdi-heart'),\n",
    "    v.Select(label='select3', prepend_icon = 'mdi-magnify')\n",
    "])\n",
    "\n",
    "navDrawer.mini_variant = True\n",
    "navDrawer.expand_on_hover = True\n",
    "\n",
    "#navDrawer.width =300\n",
    "navDrawer.mini_variant_width = 30\n",
    "navDrawer.mini_variant_width = 0\n",
    "\n",
    "toolBarButton = v.Btn(\n",
    "                  icon = True, \n",
    "                  children=[\n",
    "                      v.Icon(children=['mdi-dots-vertical'])\n",
    "                      ])\n",
    "\n",
    "def on_click(widget, event, data):\n",
    "    navDrawer.v_model = not navDrawer.v_model\n",
    "    if navDrawer.v_model:\n",
    "        navDrawer.mini_variant_width = 30\n",
    "    else:\n",
    "        navDrawer.mini_variant_width = 0\n",
    "        \n",
    "#toolBarButton.on_event('click', on_click)\n",
    "\n",
    "#Init\n",
    "v.theme.dark = True\n",
    "app = v.App(v_model=1)\n",
    "\n",
    "appBar = v.AppBar(\n",
    "      #color=\"light-blue darken-3\",\n",
    "    color=\"blue-grey darken-1\",\n",
    "      dense=True,\n",
    "      dark = True   ,  \n",
    "       children = [\n",
    "           toolBarButton, \n",
    "           v.ToolbarTitle(children=['Niche IMS']),\n",
    "                    ])\n",
    "\n",
    "content = v.Col(children = [instruments,tabs,Proceed])\n",
    "\n",
    "\n",
    "drawersWithContent = v.Container(\n",
    "        class_=\"fill-height\",\n",
    "         fluid=True,\n",
    "        children = [\n",
    "                     v.Row(\n",
    "                          align=\"top\",\n",
    "                      justify=\"left\",\n",
    "                        children = [navDrawer,content]\n",
    "                            )\n",
    "                ])\n",
    "\n",
    "app.children = [appBar,drawersWithContent]\n",
    "\n",
    "\n",
    "app"
   ]
  },
  {
   "cell_type": "code",
   "execution_count": 104,
   "id": "0041de7b-b8d0-4454-ae6e-50a209db098b",
   "metadata": {},
   "outputs": [],
   "source": [
    "def compile_excel(sheet_sell,cells):\n",
    "    for f in cells:\n",
    "        obj = getattr(af,f\"{instruments.v_model}_Buy_{f[0]}\")\n",
    "        print(f[1])\n",
    "        obj.v_model = sheet_sell.range(f[1]).value\n",
    "        print(obj)"
   ]
  },
  {
   "cell_type": "code",
   "execution_count": 109,
   "id": "fd218ab1-e8b0-4470-ab75-48a85358ef39",
   "metadata": {},
   "outputs": [
    {
     "name": "stdout",
     "output_type": "stream",
     "text": [
      "Pre-Check BUY\n"
     ]
    },
    {
     "data": {
      "text/plain": [
       "[('Ticker_Bloomberg', 'C20'), ('ISIN', 'B21')]"
      ]
     },
     "execution_count": 109,
     "metadata": {},
     "output_type": "execute_result"
    }
   ],
   "source": [
    "instruments.v_model\n",
    "sheet=wb.sheets[\"Pre-Check BUY\"]\n",
    "print(sheet.name)\n",
    "cells[(instruments.v_model, 'Buy')][0:2]"
   ]
  },
  {
   "cell_type": "code",
   "execution_count": 52,
   "id": "ef71d7a0-922d-479f-98a8-5802ec13b879",
   "metadata": {},
   "outputs": [
    {
     "name": "stdout",
     "output_type": "stream",
     "text": [
      "('ISIN', 'C90')\n",
      "('Px_Last', 'C93')\n"
     ]
    }
   ],
   "source": [
    "for c in cells[(instruments.v_model, 'Buy')][0:2]:\n",
    "    print(c)"
   ]
  },
  {
   "cell_type": "code",
   "execution_count": 73,
   "id": "a7b27886-1685-4130-84fa-c36b739b54ec",
   "metadata": {},
   "outputs": [],
   "source": [
    "af.Bond_Buy_ISIN.v_model ='3'"
   ]
  },
  {
   "cell_type": "code",
   "execution_count": 110,
   "id": "2dfc3c8c-9a69-43f1-9a49-fc3077a2a7ae",
   "metadata": {},
   "outputs": [
    {
     "name": "stdout",
     "output_type": "stream",
     "text": [
      "US345370CW84\n"
     ]
    }
   ],
   "source": [
    "b=getattr(af,'Bond_Buy_ISIN')\n",
    "print(sheet.range(\"C90\").value)\n",
    "b.v_model = sheet.range(\"C90\").value"
   ]
  },
  {
   "cell_type": "code",
   "execution_count": 111,
   "id": "4ee7f6c8-a625-4453-bc75-702c9f9ac5a8",
   "metadata": {},
   "outputs": [
    {
     "name": "stdout",
     "output_type": "stream",
     "text": [
      "C20\n",
      "TextField(disabled=False, filled=False, id='Equity_Buy_Ticker_Bloomberg', label='Ticker Bloomberg', v_model='TEF SM')\n",
      "B21\n",
      "TextField(disabled=True, filled=True, id='Equity_Buy_ISIN', label='ISIN', v_model=None)\n",
      "C21\n",
      "TextField(disabled=True, filled=True, id='Equity_Buy_Name', label='Name', v_model=None)\n",
      "C22\n",
      "TextField(disabled=True, filled=True, id='Equity_Buy_Px_Last', label='Px Last', v_model=None)\n",
      "C23\n",
      "TextField(disabled=True, filled=True, id='Equity_Buy_Currency', label='Currency', v_model=None)\n",
      "C24\n",
      "TextField(disabled=True, filled=True, id='Equity_Buy_Cross', label='Cross', v_model=None)\n",
      "C25\n",
      "TextField(disabled=True, filled=True, id='Equity_Buy_App.cross', label='App.cross', v_model=None)\n",
      "C26\n",
      "TextField(disabled=True, filled=True, id='Equity_Buy_Price_Euro', label='Price Euro', v_model=None)\n",
      "C29\n",
      "TextField(disabled=False, filled=False, id='Equity_Buy_Quantity', label='Quantity', v_model=1293.0)\n",
      "C32\n",
      "TextField(disabled=True, filled=True, id='Equity_Buy_Cash-out_euro', label='Cash-out euro', v_model=None)\n",
      "C34\n",
      "TextField(disabled=True, filled=True, id='Equity_Buy_Trade_as_a_%_NAV', label='Trade as a % NAV', v_model=None)\n",
      "C77\n",
      "Select(id='Equity_Buy_Broker', items=['Not specified', 'Equita Sim', 'DBS Vickers', 'Samsung Securities', 'GMSA', 'Tavira Securities', 'BOFAMLY', 'IMI'], label='Broker', v_model='Samsung Securities')\n",
      "C73\n",
      "Select(id='Equity_Buy_To_work_%_volume', items=['1/3', '1/5', '1/7'], label='To work % volume', v_model=0.2)\n"
     ]
    }
   ],
   "source": [
    "args2 = cells[(instruments.v_model, 'Buy')]\n",
    "compile_excel(sheet,args2)"
   ]
  },
  {
   "cell_type": "code",
   "execution_count": 92,
   "id": "0caee522-131a-4e8c-94c7-b293d9f9086e",
   "metadata": {},
   "outputs": [
    {
     "data": {
      "text/plain": [
       "0.3333333333333333"
      ]
     },
     "execution_count": 92,
     "metadata": {},
     "output_type": "execute_result"
    }
   ],
   "source": [
    "1/3"
   ]
  },
  {
   "cell_type": "code",
   "execution_count": 93,
   "id": "f35ec227-5a17-49bf-9815-e2984b5024b5",
   "metadata": {},
   "outputs": [
    {
     "data": {
      "text/plain": [
       "0.14285714285714285"
      ]
     },
     "execution_count": 93,
     "metadata": {},
     "output_type": "execute_result"
    }
   ],
   "source": [
    "1/7"
   ]
  },
  {
   "cell_type": "code",
   "execution_count": 113,
   "id": "301f36f5-531e-4f26-b384-4b5aad1ceef5",
   "metadata": {},
   "outputs": [
    {
     "data": {
      "text/plain": [
       "0.2"
      ]
     },
     "execution_count": 113,
     "metadata": {},
     "output_type": "execute_result"
    }
   ],
   "source": [
    "sheet.range('C73').value"
   ]
  },
  {
   "cell_type": "code",
   "execution_count": null,
   "id": "ec721b56-8f5c-4ab0-ad7d-0fd3685de847",
   "metadata": {},
   "outputs": [],
   "source": []
  }
 ],
 "metadata": {
  "kernelspec": {
   "display_name": "Python 3 (ipykernel)",
   "language": "python",
   "name": "python3"
  },
  "language_info": {
   "codemirror_mode": {
    "name": "ipython",
    "version": 3
   },
   "file_extension": ".py",
   "mimetype": "text/x-python",
   "name": "python",
   "nbconvert_exporter": "python",
   "pygments_lexer": "ipython3",
   "version": "3.9.7"
  }
 },
 "nbformat": 4,
 "nbformat_minor": 5
}
